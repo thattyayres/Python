{
 "cells": [
  {
   "cell_type": "markdown",
   "metadata": {},
   "source": [
    "1 Implemente um gerador infinito de números primos. Ex: i = 0 while i < 10: print(gera_primos()) i += 1 Este código imprime os 10 primeiros números primos, isto é: 1, 2, 3, 5, 7, 11, 13, 17, 19, 23."
   ]
  },
  {
   "cell_type": "code",
   "execution_count": 1,
   "metadata": {},
   "outputs": [
    {
     "name": "stdout",
     "output_type": "stream",
     "text": [
      "1\n",
      "2\n",
      "3\n",
      "5\n",
      "7\n",
      "11\n",
      "13\n",
      "17\n",
      "19\n",
      "23\n"
     ]
    }
   ],
   "source": [
    "def gera_primos():\n",
    "    num = 1\n",
    "    while True:\n",
    "        if primo(num):\n",
    "            yield num\n",
    "        num += 1\n",
    "        \n",
    "def primo(num):\n",
    "    if (num == 1 or num == 2):\n",
    "        return True;\n",
    "    else:\n",
    "        for i in range(2, num):\n",
    "            if(num % i == 0):\n",
    "                return False\n",
    "        return True\n",
    "    \n",
    "g = gera_primos()\n",
    "i = 0\n",
    "while i < 10:\n",
    "    print(g.send(None))\n",
    "    i += 1"
   ]
  },
  {
   "cell_type": "markdown",
   "metadata": {},
   "source": [
    "5 Estenda o generator do exercício 4 em uma coroutine que permita que a mudança do passo seja feita de fora (use send())."
   ]
  },
  {
   "cell_type": "code",
   "execution_count": 2,
   "metadata": {},
   "outputs": [
    {
     "name": "stdout",
     "output_type": "stream",
     "text": [
      "12\n",
      "17\n",
      "22\n",
      "27\n",
      "32\n",
      "37\n",
      "42\n",
      "47\n",
      "52\n",
      "57\n",
      "62\n",
      "64\n",
      "66\n",
      "68\n",
      "70\n",
      "72\n",
      "74\n",
      "76\n",
      "78\n",
      "80\n",
      "82\n"
     ]
    }
   ],
   "source": [
    "def gera_5(num):\n",
    "    ret = num + 5\n",
    "    yield ret\n",
    "    while True:\n",
    "        passo = yield\n",
    "        ret += passo\n",
    "        yield ret\n",
    "    \n",
    "g = gera_5(7)\n",
    "print(g.send(None))\n",
    "\n",
    "i = 0\n",
    "while i < 10:\n",
    "    next(g)\n",
    "    print(g.send(5))\n",
    "    i += 1\n",
    "\n",
    "i = 0\n",
    "while i < 10:\n",
    "    next(g)\n",
    "    print(g.send(2))\n",
    "    i += 1"
   ]
  },
  {
   "cell_type": "code",
   "execution_count": null,
   "metadata": {},
   "outputs": [],
   "source": []
  },
  {
   "cell_type": "markdown",
   "metadata": {},
   "source": []
  },
  {
   "cell_type": "code",
   "execution_count": null,
   "metadata": {},
   "outputs": [],
   "source": []
  },
  {
   "cell_type": "markdown",
   "metadata": {},
   "source": []
  },
  {
   "cell_type": "code",
   "execution_count": null,
   "metadata": {},
   "outputs": [],
   "source": []
  },
  {
   "cell_type": "markdown",
   "metadata": {},
   "source": []
  },
  {
   "cell_type": "code",
   "execution_count": null,
   "metadata": {},
   "outputs": [],
   "source": []
  }
 ],
 "metadata": {
  "kernelspec": {
   "display_name": "Python 3",
   "language": "python",
   "name": "python3"
  },
  "language_info": {
   "codemirror_mode": {
    "name": "ipython",
    "version": 3
   },
   "file_extension": ".py",
   "mimetype": "text/x-python",
   "name": "python",
   "nbconvert_exporter": "python",
   "pygments_lexer": "ipython3",
   "version": "3.6.4"
  }
 },
 "nbformat": 4,
 "nbformat_minor": 2
}
