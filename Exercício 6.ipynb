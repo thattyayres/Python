{
 "cells": [
  {
   "cell_type": "markdown",
   "metadata": {},
   "source": [
    "\n",
    "1 Defina a função soma_nat que recebe como argumento um número natural n e devolve a soma de todos os números naturais até n.\n"
   ]
  },
  {
   "cell_type": "code",
   "execution_count": null,
   "metadata": {},
   "outputs": [],
   "source": [
    "def get_number():\n",
    "    while True:\n",
    "        numero = int(input('Digite um número natural: '))\n",
    "        if numero < 0:\n",
    "            print('Digite apenas um unico numero natural')\n",
    "            continue\n",
    "        else:\n",
    "            return numero\n",
    "\n",
    "def sum_nat(n):\n",
    "    return 0 if n==0 else n+sum_nat(n-1)\n",
    "\n",
    "def main():\n",
    "    return sum_nat(get_number())\n",
    "\n",
    "print(main())\n",
    "assert(sum_nat(5)==15)"
   ]
  },
  {
   "cell_type": "markdown",
   "metadata": {},
   "source": [
    "4 Defina a função prod_lista que recebe como argumento uma lista de inteiros e devolve o produto dos seus elementos."
   ]
  },
  {
   "cell_type": "code",
   "execution_count": 2,
   "metadata": {},
   "outputs": [
    {
     "name": "stdout",
     "output_type": "stream",
     "text": [
      "Insira números na lista e digite uma letra para parar\n",
      "Insira um número na lista: 5\n",
      "Insira um número na lista: 5\n",
      "Insira um número na lista: 5\n",
      "Insira um número na lista: a\n",
      "Lista = [5.0, 5.0, 5.0] \n",
      "Produto dos elementos = 125.0\n"
     ]
    }
   ],
   "source": [
    "def monta_lista():\n",
    "    lista = []\n",
    "    print('Insira números na lista e digite uma letra para parar')\n",
    "    while True:\n",
    "        item = input('Insira um número na lista: ')\n",
    "        try:\n",
    "            lista.append(float(item))\n",
    "        except (ValueError, Exception):\n",
    "            if len(lista) > 0:\n",
    "                produtos = faz_produto_lista(lista)\n",
    "            else:\n",
    "                produtos = 0\n",
    "            print(f'Lista = {lista} \\nProduto dos elementos = {produtos}')\n",
    "            break\n",
    "\n",
    "## recursivo\n",
    "def faz_produto_lista(lista):\n",
    "        return lista[len(lista)-1] * faz_produto_lista(lista[:-1]) if len(lista) > 0 else 1\n",
    "    \n",
    "def f_main():\n",
    "    return monta_lista()\n",
    "\n",
    "f_main()"
   ]
  },
  {
   "cell_type": "code",
   "execution_count": 3,
   "metadata": {},
   "outputs": [],
   "source": [
    "assert(faz_produto_lista([1,2,3,4,5,6])==720)\n"
   ]
  },
  {
   "cell_type": "markdown",
   "metadata": {},
   "source": [
    "5 Defina a função contem_parQ que recebe como argumento uma lista de números inteiros w e devolve True se w contém um número par e False em caso contrário."
   ]
  },
  {
   "cell_type": "code",
   "execution_count": 5,
   "metadata": {},
   "outputs": [
    {
     "name": "stdout",
     "output_type": "stream",
     "text": [
      "Testando\n",
      "True\n"
     ]
    }
   ],
   "source": [
    "def contem_parQ(w):\n",
    "    for i in w:\n",
    "        if i % 2 == 0:\n",
    "            return True\n",
    "    return False\n",
    "\n",
    "print('Testando')\n",
    "assert contem_parQ([2,3,1,2,3,4]), 'Lista não tem números'\n",
    "print(contem_parQ([2,3,1,2,3,4]))\n",
    "\n"
   ]
  },
  {
   "cell_type": "code",
   "execution_count": null,
   "metadata": {},
   "outputs": [],
   "source": []
  },
  {
   "cell_type": "code",
   "execution_count": null,
   "metadata": {},
   "outputs": [],
   "source": []
  },
  {
   "cell_type": "markdown",
   "metadata": {},
   "source": [
    "7 Defina a função pertenceQ que recebe como argumentos uma lista de números inteiros w e um número inteiro n e devolve True se n ocorre em w e False em caso contrário."
   ]
  },
  {
   "cell_type": "code",
   "execution_count": null,
   "metadata": {},
   "outputs": [],
   "source": [
    "def get_list():\n",
    "    lista = []\n",
    "    while True:\n",
    "        item = input('insira um  int na lista: ')\n",
    "        try:\n",
    "            lista.append(int(item))\n",
    "        except (ValueError, Exception):\n",
    "            print(f'Lista = {lista}')\n",
    "            numero =  odd_number()\n",
    "            resultado = pertence_q(lista, numero)\n",
    "            print(resultado)\n",
    "            break\n",
    "            \n",
    "def odd_number():\n",
    "    return int(input('Digite um int: '))\n",
    "def pertences(lista, numero):\n",
    "    return True if len(lista)> 0 and (numero in lista or pertences(lista[:-1],numero)) else False\n",
    "        \n",
    "def f_main():\n",
    "    return get_list()\n",
    "\n",
    "f_main()"
   ]
  },
  {
   "cell_type": "markdown",
   "metadata": {},
   "source": [
    "10 Defina a função inverteLista que recebe como argumento uma lista w e devolve a mesma lista mas invertida."
   ]
  },
  {
   "cell_type": "code",
   "execution_count": 6,
   "metadata": {},
   "outputs": [
    {
     "name": "stdout",
     "output_type": "stream",
     "text": [
      "Insira números na lista e digite uma letra para parar\n",
      "Insira um número inteiro na lista: 5\n",
      "Insira um número inteiro na lista: 5\n",
      "Insira um número inteiro na lista: 1\n",
      "Insira um número inteiro na lista: a\n",
      "Lista = [5, 5, 1]\n",
      "Lista Invertida = [1, 5, 5]\n"
     ]
    }
   ],
   "source": [
    "def monta_lista():\n",
    "    lista = []\n",
    "    n_lista = []\n",
    "    print('Insira números na lista e digite uma letra para parar')\n",
    "    while True:\n",
    "        item = input('Insira um número inteiro na lista: ')\n",
    "        try:\n",
    "            lista.append(int(item))\n",
    "        except (ValueError, Exception):\n",
    "            print(f'Lista = {lista}')\n",
    "            n_lista = inverte(lista)\n",
    "            print(f'Lista Invertida = {n_lista}')\n",
    "            break\n",
    "\n",
    "## recursivo\n",
    "inverte = lambda lista: (inverte(lista[1:]) + lista[:1] if lista else [])\n",
    "    \n",
    "def f_main():\n",
    "    return monta_lista()\n",
    "\n",
    "f_main()"
   ]
  },
  {
   "cell_type": "code",
   "execution_count": null,
   "metadata": {},
   "outputs": [],
   "source": [
    "assert(inverte([1,2,3,4,5])==[5,4,3,2,1])"
   ]
  },
  {
   "cell_type": "code",
   "execution_count": null,
   "metadata": {},
   "outputs": [],
   "source": []
  },
  {
   "cell_type": "code",
   "execution_count": null,
   "metadata": {},
   "outputs": [],
   "source": []
  }
 ],
 "metadata": {
  "kernelspec": {
   "display_name": "Python 3",
   "language": "python",
   "name": "python3"
  },
  "language_info": {
   "codemirror_mode": {
    "name": "ipython",
    "version": 3
   },
   "file_extension": ".py",
   "mimetype": "text/x-python",
   "name": "python",
   "nbconvert_exporter": "python",
   "pygments_lexer": "ipython3",
   "version": "3.6.4"
  }
 },
 "nbformat": 4,
 "nbformat_minor": 2
}
