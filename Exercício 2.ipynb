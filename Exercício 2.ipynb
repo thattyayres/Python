{
 "cells": [
  {
   "cell_type": "markdown",
   "metadata": {},
   "source": [
    "1- Crie um programa que recebe uma lista de números e\n",
    "- retorne o maior elemento\n",
    "- retorne a soma dos elementos\n",
    "- retorne o número de ocorrências do primeiro elemento da lista\n",
    "- retorne a média dos elementos\n",
    "- retorne o valor mais próximo da média dos elementos\n",
    "- retorne a soma dos elementos com valor negativo\n",
    "- retorne a quantidade de vizinhos iguais"
   ]
  },
  {
   "cell_type": "code",
   "execution_count": 400,
   "metadata": {},
   "outputs": [
    {
     "name": "stdout",
     "output_type": "stream",
     "text": [
      "O maior elemento da lista é 50\n",
      "A soma dos elementos é 150\n",
      "O primeiro elemento se repete 1 vezes\n",
      "A média dos elementos é 30.0\n",
      "O valor mais próximo da média dos elementos é 30.0\n",
      "A soma dos elementos com valor negativo é -150\n",
      "Existem 0 números vizinhos repetidos\n"
     ]
    }
   ],
   "source": [
    "lista = [10, 20, 30, 40, 50]\n",
    "\n",
    "#maior elemento\n",
    "print(\"O maior elemento da lista é\", max(int(number) for number in lista))  \n",
    "\n",
    "#soma dos elementos\n",
    "print(\"A soma dos elementos é\", sum(lista))\n",
    "\n",
    "#número de ocorrências do primeiro elemento da lista\n",
    "print(\"O primeiro elemento se repete\", lista.count(10), \"vezes\")\n",
    "\n",
    "#média dos elementos\n",
    "media = sum(lista) / len(lista)\n",
    "print(\"A média dos elementos é\", media)\n",
    "\n",
    "#valor mais próximo da média dos elementos\n",
    "menor = []\n",
    "maior = []\n",
    "count = 0\n",
    "valida = True\n",
    "for ocorrencia in lista:\n",
    "    if ocorrencia == media:\n",
    "        print(\"O valor mais próximo da média dos elementos é\", media)\n",
    "        valida = True\n",
    "        break\n",
    "    else:\n",
    "        if(ocorrencia < media):\n",
    "            menor.append(ocorrencia)\n",
    "            valida = False\n",
    "        if(ocorrencia > media):\n",
    "            maior.append(ocorrencia)\n",
    "            valida = False\n",
    "\n",
    "if valida == False:\n",
    "    print(\"O valor mais próximo da média dos elementos é\", max(menor), min(maior))\n",
    "    \n",
    "#soma dos elementos com valor negativo\n",
    "print(\"A soma dos elementos com valor negativo é\", sum(lista)*-1)\n",
    "\n",
    "#quantidade de vizinhos iguais\n",
    "i = 0\n",
    "count = 0\n",
    "if(lista[i+1] == lista[i]):\n",
    "    count = count + 1\n",
    "    \n",
    "print(\"Existem\", count, \"números vizinhos repetidos\")"
   ]
  },
  {
   "cell_type": "markdown",
   "metadata": {
    "collapsed": true
   },
   "source": [
    "2- Faça um programa que receba duas listas e retorne True se são iguais ou False caso contrario. Duas listas são iguais se possuem os mesmos valores e na mesma ordem."
   ]
  },
  {
   "cell_type": "code",
   "execution_count": 19,
   "metadata": {},
   "outputs": [
    {
     "name": "stdout",
     "output_type": "stream",
     "text": [
      "As listas são iguais\n"
     ]
    }
   ],
   "source": [
    "lista1 = [0, 5, 10, 15, 20]\n",
    "lista2 = [0, 5, 10, 15, 20]\n",
    "indicador = True\n",
    "for item in lista1:\n",
    "    if(item == item in lista2):\n",
    "        indicador = True\n",
    "    else:\n",
    "        indicador = False\n",
    "        print(\"As listas são diferentes\")\n",
    "        break\n",
    "if(indicador == True):\n",
    "    print(\"As listas são iguais\")"
   ]
  },
  {
   "cell_type": "markdown",
   "metadata": {},
   "source": [
    "3- Faça um programa que receba duas listas e retorne True se têm os mesmos elementos ou False caso contrário.\n",
    "Duas listas possuem os mesmos elementos quando são compostas pelos mesmos valores, mas não obrigatoriamente na mesma ordem."
   ]
  },
  {
   "cell_type": "code",
   "execution_count": 43,
   "metadata": {},
   "outputs": [
    {
     "name": "stdout",
     "output_type": "stream",
     "text": [
      "As listas são iguais\n"
     ]
    }
   ],
   "source": [
    "lista1 = [15, 10, 0, 20, 5]\n",
    "lista2 = [0, 5, 10, 15, 20]\n",
    "\n",
    "num_repetido = 0\n",
    "\n",
    "for num in lista1:\n",
    "    if num in lista2:\n",
    "        repetido = True\n",
    "        num_repetido += 1\n",
    "    else:\n",
    "        repetido = False\n",
    "        print(\"As listas são diferentes\")\n",
    "        break\n",
    "if(repetido == True):\n",
    "    print(\"As listas são iguais\")"
   ]
  },
  {
   "cell_type": "markdown",
   "metadata": {},
   "source": [
    "4- Faça um programa que percorre uma lista com o seguinte formato: [['Brasil', 'Italia', [10, 9]], ['Brasil', 'Espanha', [5, 7]], ['Italia', 'Espanha', [7,8]]]. Essa lista indica o número de faltas que cada time fez em cada jogo. Na lista acima, no jogo entre Brasil e Itália, o Brasil fez 10 faltas e a Itália fez 9. \n",
    "O programa deve imprimir na tela: \n",
    "- o total de faltas do campeonato  \n",
    "- o time que fez mais faltas \n",
    "- o time que fez menos faltas "
   ]
  },
  {
   "cell_type": "code",
   "execution_count": 168,
   "metadata": {},
   "outputs": [
    {
     "name": "stdout",
     "output_type": "stream",
     "text": [
      "O total de faltas do campeonato é 46\n",
      "Time com mais faltas: Itália 16\n",
      "Time com menos faltas: Brasil 15\n",
      "Time com menos faltas: Espanha 15\n"
     ]
    }
   ],
   "source": [
    "faltas = [['Brasil', 'Italia', [10, 9]], ['Brasil', 'Espanha', [5, 7]], ['Italia', 'Espanha', [7,8]]]\n",
    "\n",
    "total = 0\n",
    "brasil = 0\n",
    "italia = 0\n",
    "espanha = 0\n",
    "\n",
    "for falta in faltas:\n",
    "    total = total + sum(falta[2])\n",
    "    if(falta[0] == 'Brasil'):\n",
    "        brasil = brasil + (falta[2][0])\n",
    "    elif(falta[1] == 'Brasil'):\n",
    "        brasil = brasil + (falta[2][1])\n",
    "    if(falta[0] == 'Italia'):\n",
    "        italia = italia + (falta[2][0])\n",
    "    elif(falta[1] == 'Italia'):\n",
    "        italia = italia + (falta[2][1])\n",
    "    if(falta[0] == 'Espanha'):\n",
    "        espanha = espanha + (falta[2][1])\n",
    "    elif(falta[1] == 'Espanha'):\n",
    "        espanha = espanha + (falta[2][1])\n",
    "    \n",
    "print(\"O total de faltas do campeonato é\", total)\n",
    "\n",
    "if(brasil > italia and brasil > espanha):\n",
    "    print(\"Time com mais faltas: Brasil\", brasil)\n",
    "if(italia > brasil and italia > espanha):\n",
    "    print(\"Time com mais faltas: Itália\", italia)\n",
    "if(espanha > brasil and espanha > italia):\n",
    "    print(\"Time com mais faltas: Espanha\", espanha)\n",
    "    \n",
    "if(brasil <= italia and brasil <= espanha):\n",
    "    print(\"Time com menos faltas: Brasil\", brasil)\n",
    "if(italia <= brasil and italia <= espanha):\n",
    "    print(\"Time com menos faltas: Itália\", italia)\n",
    "if(espanha <= brasil and espanha <= italia):\n",
    "    print(\"Time com menos faltas: Espanha\", espanha)"
   ]
  },
  {
   "cell_type": "markdown",
   "metadata": {},
   "source": [
    "5- Escreva um programa que conta a quantidade de vogais em uma string e armazena tal quantidade em um dicionário, onde a chave é a vogal considerada."
   ]
  },
  {
   "cell_type": "code",
   "execution_count": 170,
   "metadata": {},
   "outputs": [
    {
     "name": "stdout",
     "output_type": "stream",
     "text": [
      "{'A': 1, 'E': 3}\n"
     ]
    }
   ],
   "source": [
    "s =\"Frase teste\"\n",
    "\n",
    "dic={}\n",
    "smaior= s.upper()\n",
    "if (\"A\" in smaior):\n",
    "    dic['A']=smaior.count(\"A\")\n",
    "if (\"E\" in smaior):\n",
    "    dic['E']=smaior.count(\"E\")\n",
    "if (\"I\" in smaior):\n",
    "    dic['I']=smaior.count(\"I\")\n",
    "if (\"O\" in smaior):\n",
    "    dic['O']=smaior.count(\"O\")\n",
    "if (\"U\" in smaior):\n",
    "    dic['U']=smaior.count(\"U\")\n",
    "print(dic)"
   ]
  },
  {
   "cell_type": "markdown",
   "metadata": {},
   "source": [
    "6- Escreva um programa que lê̂ duas notas de vários alunos e armazena tais notas em um dicionário, onde a chave é o nome do aluno. A entrada de dados deve terminar quando for lida uma string vazia como nome. Escreva uma função que retorna a média do aluno, dado seu nome. "
   ]
  },
  {
   "cell_type": "code",
   "execution_count": 210,
   "metadata": {},
   "outputs": [
    {
     "name": "stdout",
     "output_type": "stream",
     "text": [
      "Insira o nome do alunoMaria\n",
      "A média de Maria é 9.0\n"
     ]
    }
   ],
   "source": [
    "notas = {'Maria':[10,8], 'João':[7,6], 'José':[2,5]}\n",
    "\n",
    "nome = input(\"Insira o nome do aluno \")\n",
    "if (nome == ''):\n",
    "    print(\"finaliza\")\n",
    "else:\n",
    "    print(\"A média de\", nome, 'é', sum(notas[nome]) / 2)"
   ]
  },
  {
   "cell_type": "markdown",
   "metadata": {},
   "source": [
    "7- Uma pista de Kart permite 10 voltas para cada um de 6 corredores. Escreva um programa que leia todos os tempos em segundos e os guarde em um dicionário, onde a chave é o nome do corredor. Ao final diga de quem foi a melhor volta da prova e em que volta; e ainda a classificação final em ordem (1o o campeão). O campeão é o que tem a menor média de tempos. \n",
    " "
   ]
  },
  {
   "cell_type": "code",
   "execution_count": 414,
   "metadata": {},
   "outputs": [
    {
     "name": "stdout",
     "output_type": "stream",
     "text": [
      "Melhor volta 90 segundos\n",
      "Classificação do Campeonato:\n"
     ]
    },
    {
     "data": {
      "text/plain": [
       "[('Senna', 172),\n",
       " ('Prost', 177),\n",
       " ('Piquet', 189),\n",
       " ('Schumacher', 196),\n",
       " ('Vettel', 199),\n",
       " ('Hamilton', 200)]"
      ]
     },
     "execution_count": 414,
     "metadata": {},
     "output_type": "execute_result"
    }
   ],
   "source": [
    "from operator import itemgetter\n",
    "\n",
    "tempos = {'Senna':[120, 110, 105, 99, 105, 110, 90, 98, 100, 100], 'Prost':[130,110,115,100,103,110,100,95,100,100], \n",
    "          'Piquet':[150,120,117,120,115,110,110,120,115,100], 'Schumacher':[130,100,120,115,110,110,110,115,110,115], \n",
    "          'Vettel':[150,130,120,110,115,110,110,120,130,100], 'Hamilton':[140,135,130,125,120,110,110,115,110,105]}\n",
    "melhorVolta = []\n",
    "pilotos = []\n",
    "classificacao = []\n",
    "\n",
    "for x in tempos.values():\n",
    "    melhorVolta.append(min(x))\n",
    "    classificacao.append(int(sum(x) / 6))\n",
    "\n",
    "for indice, valor in enumerate(tempos):\n",
    "    pilotos.append(valor)\n",
    "\n",
    "classificacao.sort()\n",
    "print(\"Melhor volta\", min(melhorVolta), \"segundos\")\n",
    "campeonato = {pilotos[0]:classificacao[0], \n",
    "              pilotos[1]:classificacao[1], \n",
    "              pilotos[2]:classificacao[2],\n",
    "              pilotos[3]:classificacao[3],\n",
    "              pilotos[4]:classificacao[4],\n",
    "              pilotos[5]:classificacao[5]}    \n",
    "\n",
    "print(\"Classificação do Campeonato:\")\n",
    "sorted(campeonato.items(), key=itemgetter(1))"
   ]
  },
  {
   "cell_type": "markdown",
   "metadata": {},
   "source": [
    "8- Escreva um programa para armazenar uma agenda de telefones em um dicionário. Cada pessoa pode ter um ou mais telefones e a chave do dicionário é o nome da pessoa. Seu programa deve ter as seguintes funções: \n",
    "- incluirNovoNome – essa função acrescenta um novo nome na agenda, com um ou mais telefones. Ela deve receber como argumentos o nome e os telefones. \n",
    "- incluirTelefone – essa função acrescenta um telefone em um nome existente na agenda. Caso o nome não exista na agenda, você̂ deve perguntar se a pessoa deseja inclui-lo. Caso a resposta seja afirmativa, use a função anterior para incluir o novo nome. \n",
    "- excluirTelefone – essa função exclui um telefone de uma pessoa que já está na agenda. Se a pessoa tiver apenas um telefone, ela deve ser excluída da agenda. \n",
    "- excluirNome – essa função exclui uma pessoa da agenda. \n",
    "- consultarTelefone – essa função retorna os telefones de uma pessoa na agenda. "
   ]
  },
  {
   "cell_type": "code",
   "execution_count": 1,
   "metadata": {},
   "outputs": [
    {
     "name": "stdout",
     "output_type": "stream",
     "text": [
      "Digite o nomele\n",
      "Digite o(s) telefone(s)123\n",
      "Digite o nomele\n",
      "Digite o(s) telefone(s)321\n",
      "Digite o(s) telefone(s)le\n",
      "Digite o nomeMaria\n",
      "Digite o nomeJosé\n",
      "[12345678, 87654321]\n",
      "{'João': [11112222, 22223333], 'José': [12345678, 87654321]}\n"
     ]
    }
   ],
   "source": [
    "listaTelefonica = {'João':[11112222, 22223333], 'Maria':[11010202], 'José':[12345678, 87654321]}\n",
    "\n",
    "def incluirNovoNome(novoNome, novoTelefone): \n",
    "    listaTelefonica.update({novoNome:[telefone]})\n",
    "    \n",
    "def incluirTelefone(buscaNome, novoTelefone):\n",
    "    listaTelefonica.update({buscaNome:[novoTelefone]})\n",
    "\n",
    "def excluirTelefone(excluiTelefone):\n",
    "    del(listaTelefonica[excluiTelefone])\n",
    "    \n",
    "def excluirNome(excluiNome):\n",
    "    listaTelefonica.pop(excluiNome)\n",
    "    \n",
    "def consultarTelefone(nome):\n",
    "    print(listaTelefonica[nome])\n",
    "\n",
    "nome = input(\"Digite o nome\")\n",
    "telefone = input(\"Digite o(s) telefone(s)\")\n",
    "incluirNovoNome(nome, telefone)\n",
    "\n",
    "nome = input(\"Digite o nome\")\n",
    "telefone = input(\"Digite o(s) telefone(s)\")\n",
    "incluirTelefone(nome, telefone)\n",
    "\n",
    "telefone = input(\"Digite o(s) telefone(s)\")\n",
    "excluirTelefone(telefone)\n",
    "\n",
    "nome = input(\"Digite o nome\")\n",
    "excluirNome(nome)\n",
    "\n",
    "nome = input(\"Digite o nome\")\n",
    "consultarTelefone(nome)\n",
    "\n",
    "print(listaTelefonica)"
   ]
  },
  {
   "cell_type": "markdown",
   "metadata": {},
   "source": [
    "9 Faça um programa que leia um arquivo texto contendo uma lista de endereços IP e gere um outro arquivo, contendo um relatório dos endereços IP válidos e inválidos. O arquivo de entrada possui o seguinte formato:\n",
    " - 200.135.80.9 \n",
    " - 192.168.1.1 \n",
    " - 8.35.67.74 \n",
    " - 257.32.4.5 \n",
    " - 85.345.1.2 \n",
    " - 1.2.3.4 \n",
    " - 9.8.234.5 \n",
    " - 192.168.0.256\n",
    " \n",
    " O arquivo de saída possui o seguinte formato: \n",
    " [Endereços válidos:] \n",
    " - 200.135.80.9 \n",
    " - 192.168.1.1 \n",
    " - 8.35.67.74 \n",
    " - 1.2.3.4 \n",
    "\n",
    " [Endereços inválidos:] \n",
    " - 257.32.4.5 \n",
    " - 85.345.1.2 \n",
    " - 9.8.234.5 \n",
    " - 192.168.0.25"
   ]
  },
  {
   "cell_type": "markdown",
   "metadata": {},
   "source": [
    "10 A ACME Inc., uma empresa de 500 funcionários, está tendo problemas de espaço em disco no seu servidor de arquivos. Para tentar resolver este problema, o Administrador de Rede precisa saber qual o espaço ocupado pelos usuários, e identificar os usuários com maior espaço ocupado. Através de um programa, baixado da Internet, ele conseguiu gerar o seguinte arquivo, chamado \"usuarios.txt\":\n",
    "\n",
    "- alexandre       456123789 \n",
    "- anderson        1245698456 \n",
    "- antonio         123456456 \n",
    "- carlos          91257581 \n",
    "- cesar           987458 \n",
    "- rosemary        789456125 \n",
    " \n",
    "Neste arquivo, o nome do usuário possui 15 caracteres. A partir deste arquivo, você deve criar um programa que gere um relatório, chamado \"relatório.txt\", no seguinte formato:\n",
    "\n",
    " ACME Inc.               Uso do espaço em disco pelos usuários ----------------------------------------------------------------------- \n",
    " - Nr.  Usuário        Espaço utilizado     % do uso \n",
    " - 1    alexandre       434,99 MB             16,85% \n",
    " - 2    anderson       1187,99 MB             46,02% \n",
    " - 3    antonio         117,73 MB              4,56% \n",
    " - 4    carlos           87,03 MB              3,37% \n",
    " - 5    cesar             0,94 MB              0,04% \n",
    " - 6    rosemary        752,88 MB             29,16% \n",
    " \n",
    " - Espaço total ocupado: 2581,57 MB \n",
    " - Espaço médio ocupado: 430,26 MB \n",
    " \n",
    " - O arquivo de entrada deve ser lido uma única vez, e os dados armazenados em memória, caso sejam necessários, de forma a agilizar a execução do programa. A conversão da espaço ocupado em disco, de bytes para megabytes deverá ser feita através de uma função separada, que será chamada pelo programa principal. O cálculo do percentual de uso também deverá ser feito através de uma função, que será chamada pelo programa principal."
   ]
  },
  {
   "cell_type": "code",
   "execution_count": null,
   "metadata": {},
   "outputs": [],
   "source": []
  }
 ],
 "metadata": {
  "kernelspec": {
   "display_name": "Python 3",
   "language": "python",
   "name": "python3"
  },
  "language_info": {
   "codemirror_mode": {
    "name": "ipython",
    "version": 3
   },
   "file_extension": ".py",
   "mimetype": "text/x-python",
   "name": "python",
   "nbconvert_exporter": "python",
   "pygments_lexer": "ipython3",
   "version": "3.6.4"
  }
 },
 "nbformat": 4,
 "nbformat_minor": 2
}
